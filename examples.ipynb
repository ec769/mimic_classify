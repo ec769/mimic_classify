{
 "cells": [
  {
   "cell_type": "code",
   "execution_count": 2,
   "metadata": {},
   "outputs": [],
   "source": [
    "from CCIT import *\n",
    "from src.datagen import *\n",
    "import numpy as np\n",
    "import pandas as pd\n",
    "from src.MIMIFY_GAN import *\n",
    "from src.MIMIFY_REG import *"
   ]
  },
  {
   "cell_type": "markdown",
   "metadata": {},
   "source": [
    "### Set use_cuda = True in all files if you have a GPU"
   ]
  },
  {
   "cell_type": "code",
   "execution_count": 31,
   "metadata": {},
   "outputs": [
    {
     "name": "stdout",
     "output_type": "stream",
     "text": [
      "<ufunc 'cos'> <ufunc 'cos'>\n"
     ]
    }
   ],
   "source": [
    "all_samples = generate_samples_random(size = 5000,sType = 'CI',dx = 1,dy = 1,dz = 20,\\\n",
    "                                      nstd = 0.05,freq = 1.0,fixed_function=6,debug = True)"
   ]
  },
  {
   "cell_type": "code",
   "execution_count": 32,
   "metadata": {
    "collapsed": true
   },
   "outputs": [],
   "source": [
    "MCG = MIMIFY_GAN(all_samples[:,0:1],all_samples[:,1:2],all_samples[:,2:22],\\\n",
    "                 normalized=True,max_epoch=50,bsize=50,dim_N = 20, nthread=16,deep_classifier = True, \\\n",
    "                params =  {'nhid':20,'nlayers':5,'dropout':0.2})"
   ]
  },
  {
   "cell_type": "code",
   "execution_count": 33,
   "metadata": {},
   "outputs": [
    {
     "name": "stdout",
     "output_type": "stream",
     "text": [
      "in CI Sampler True\n",
      "MAX ITER: 2501\n",
      "in train GAN True\n",
      "Std. Normalized Dataset\n",
      "Initialized Iterator\n",
      "Data Size: 2500\n",
      "Batch Size: 50\n",
      "Iter#: 99\n",
      "loss: 0.9273569\n",
      "Iter#: 199\n",
      "loss: 1.3835254\n",
      "Iter#: 299\n",
      "loss: 1.3185558\n",
      "Iter#: 399\n",
      "loss: 1.2240736\n",
      "Iter#: 499\n",
      "loss: 1.1495802\n",
      "Iter#: 599\n",
      "loss: 1.0885575\n",
      "Iter#: 699\n",
      "loss: 1.1240208\n",
      "Iter#: 799\n",
      "loss: 1.1959026\n",
      "Iter#: 899\n",
      "loss: 1.2502826\n",
      "Iter#: 999\n",
      "loss: 1.3027995\n",
      "Iter#: 1099\n",
      "loss: 1.3382884\n",
      "Iter#: 1199\n",
      "loss: 1.3537449\n",
      "Iter#: 1299\n",
      "loss: 1.3546039\n",
      "Iter#: 1399\n",
      "loss: 1.3507174\n",
      "Iter#: 1499\n",
      "loss: 1.3205123\n",
      "Iter#: 1599\n",
      "loss: 1.3306026\n",
      "Iter#: 1699\n",
      "loss: 1.3280401\n",
      "Iter#: 1799\n",
      "loss: 1.3354217\n",
      "Iter#: 1899\n",
      "loss: 1.3484943\n",
      "Iter#: 1999\n",
      "loss: 1.3614033\n",
      "Iter#: 2099\n",
      "loss: 1.3440146\n",
      "Iter#: 2199\n",
      "loss: 1.3424388\n",
      "Iter#: 2299\n",
      "loss: 1.3378869\n",
      "Iter#: 2399\n",
      "loss: 1.3302438\n",
      "Iter#: 2499\n",
      "loss: 1.326405\n",
      "Using Deep Model:  <src.classifier.MLP object at 0x7fc7c4f80490>\n",
      "AC_w_x: 0.773866156016932 AC_no_x: 0.7883044893022721\n"
     ]
    }
   ],
   "source": [
    "pvalue_G = MCG.CI_classify()"
   ]
  },
  {
   "cell_type": "code",
   "execution_count": 34,
   "metadata": {},
   "outputs": [
    {
     "data": {
      "text/plain": [
       "0.3072808112460508"
      ]
     },
     "execution_count": 34,
     "metadata": {},
     "output_type": "execute_result"
    }
   ],
   "source": [
    "pvalue_G"
   ]
  },
  {
   "cell_type": "code",
   "execution_count": 24,
   "metadata": {
    "collapsed": true
   },
   "outputs": [],
   "source": [
    "MCR = MIMIFY_REG(all_samples[:,0:1],all_samples[:,1:2],all_samples[:,2:22],\\\n",
    "                 normalized=True,noise='Normal',nthread = 16, deep = False, \\\n",
    "                 max_epoch = 200, bsize = 200,DIM=20,deep_classifier = False,\\\n",
    "                 params =  {'nhid':20,'nlayers':5,'dropout':0.2})"
   ]
  },
  {
   "cell_type": "code",
   "execution_count": 25,
   "metadata": {},
   "outputs": [
    {
     "name": "stdout",
     "output_type": "stream",
     "text": [
      "Normal\n",
      "Calculated Covariance:  0.052021545478166564\n",
      "Selected Zsigma: 0.0022360679774997894\n",
      "Using XGB model: \n",
      "XGBClassifier(base_score=0.5, colsample_bylevel=1, colsample_bytree=0.8,\n",
      "       gamma=0, learning_rate=0.02, max_delta_step=0, max_depth=10,\n",
      "       min_child_weight=1, missing=None, n_estimators=300, nthread=16,\n",
      "       objective='binary:logistic', reg_alpha=0, reg_lambda=1,\n",
      "       scale_pos_weight=1, seed=11, silent=True, subsample=0.8)\n",
      "AC_w_x: 0.970328742896152 AC_no_x: 0.8233651428258697\n"
     ]
    }
   ],
   "source": [
    "pvalue_R = MCR.CI_classify()"
   ]
  },
  {
   "cell_type": "code",
   "execution_count": 26,
   "metadata": {},
   "outputs": [
    {
     "data": {
      "text/plain": [
       "0.0"
      ]
     },
     "execution_count": 26,
     "metadata": {},
     "output_type": "execute_result"
    }
   ],
   "source": [
    "pvalue_R"
   ]
  },
  {
   "cell_type": "code",
   "execution_count": 9,
   "metadata": {},
   "outputs": [],
   "source": [
    "dz = 150\n",
    "ft = './data/dim' + str(dz) + '_random/datafile'\n",
    "parallel_random_sample_gen(dx=1,dy=1,dz=dz,filetype=ft,freq=1.0,nstd=0.05,num_data=200,\\\n",
    "                           fixed_function=None,num_proc=32,nsamples=5000)"
   ]
  },
  {
   "cell_type": "code",
   "execution_count": null,
   "metadata": {
    "collapsed": true
   },
   "outputs": [],
   "source": []
  }
 ],
 "metadata": {
  "kernelspec": {
   "display_name": "Python (tensorflow)",
   "language": "python",
   "name": "tensorflow"
  },
  "language_info": {
   "codemirror_mode": {
    "name": "ipython",
    "version": 2
   },
   "file_extension": ".py",
   "mimetype": "text/x-python",
   "name": "python",
   "nbconvert_exporter": "python",
   "pygments_lexer": "ipython2",
   "version": "2.7.5"
  }
 },
 "nbformat": 4,
 "nbformat_minor": 2
}
