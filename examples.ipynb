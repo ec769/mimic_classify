{
 "cells": [
  {
   "cell_type": "code",
   "execution_count": 1,
   "metadata": {
    "collapsed": false,
    "deletable": true,
    "editable": true
   },
   "outputs": [],
   "source": [
    "from CCIT import *\n",
    "import numpy as np\n",
    "import pandas as pd\n",
    "from src.MIMIFY_GAN import *\n",
    "from src.MIMIFY_REG import *"
   ]
  },
  {
   "cell_type": "markdown",
   "metadata": {},
   "source": [
    "### Set use_cuda = True in all files if you have a GPU"
   ]
  },
  {
   "cell_type": "code",
   "execution_count": 2,
   "metadata": {
    "collapsed": true,
    "deletable": true,
    "editable": true
   },
   "outputs": [],
   "source": [
    "all_samples = generate_samples_cos(size = 5000,sType = 'CI',dx = 1,dy = 1,dz = 20,nstd = 0.5,freq = 1.0)"
   ]
  },
  {
   "cell_type": "code",
   "execution_count": 3,
   "metadata": {
    "collapsed": false,
    "deletable": true,
    "editable": true
   },
   "outputs": [],
   "source": [
    "MCG = MIMIFY_GAN(all_samples[:,0:1],all_samples[:,1:2],all_samples[:,2:22],normalized=False,max_epoch=50,bsize=50,dim_N = 20, nthread=4)"
   ]
  },
  {
   "cell_type": "code",
   "execution_count": null,
   "metadata": {
    "collapsed": false,
    "deletable": true,
    "editable": true
   },
   "outputs": [
    {
     "name": "stdout",
     "output_type": "stream",
     "text": [
      "in CI Sampler False\n",
      "MAX ITER: 2501\n",
      "in train GAN False\n",
      "Initialized Iterator\n",
      "Data Size: 2500\n",
      "Batch Size: 50\n",
      "Iter#: 99\n",
      "loss: 1.16596\n",
      "Iter#: 199\n",
      "loss: 1.18694\n",
      "Iter#: 299\n",
      "loss: 1.18664\n",
      "Iter#: 399\n",
      "loss: 1.24946\n",
      "Iter#: 499\n",
      "loss: 1.36509\n",
      "Iter#: 599\n",
      "loss: 1.34054\n",
      "Iter#: 699\n",
      "loss: 1.31258\n",
      "Iter#: 799\n",
      "loss: 1.25025\n",
      "Iter#: 899\n",
      "loss: 1.2182\n",
      "Iter#: 999\n",
      "loss: 1.21985\n",
      "Iter#: 1099\n",
      "loss: 1.23674\n",
      "Iter#: 1199\n",
      "loss: 1.29653\n",
      "Iter#: 1299\n",
      "loss: 1.30175\n",
      "Iter#: 1399\n",
      "loss: 1.31806\n",
      "Iter#: 1499\n",
      "loss: 1.3084\n",
      "Iter#: 1599\n",
      "loss: 1.32467\n"
     ]
    }
   ],
   "source": [
    "pvalue_G = MCG.CI_classify()"
   ]
  },
  {
   "cell_type": "code",
   "execution_count": 22,
   "metadata": {
    "collapsed": false
   },
   "outputs": [
    {
     "data": {
      "text/plain": [
       "0.6070065870126273"
      ]
     },
     "execution_count": 22,
     "metadata": {},
     "output_type": "execute_result"
    }
   ],
   "source": [
    "pvalue_G"
   ]
  },
  {
   "cell_type": "code",
   "execution_count": 23,
   "metadata": {
    "collapsed": false
   },
   "outputs": [],
   "source": [
    "MCR = MIMIFY_REG(all_samples[:,0:1],all_samples[:,1:2],all_samples[:,2:22],normalized=False,perc=0.3,noise='Normal',nthread = 4)"
   ]
  },
  {
   "cell_type": "code",
   "execution_count": 24,
   "metadata": {
    "collapsed": false
   },
   "outputs": [
    {
     "name": "stdout",
     "output_type": "stream",
     "text": [
      "Normal\n",
      "Calculated Covariance:  0.0116268340666\n"
     ]
    }
   ],
   "source": [
    "pvalue_R = MCR.CI_classify()"
   ]
  },
  {
   "cell_type": "code",
   "execution_count": 25,
   "metadata": {
    "collapsed": false
   },
   "outputs": [
    {
     "data": {
      "text/plain": [
       "0.46756840583986214"
      ]
     },
     "execution_count": 25,
     "metadata": {},
     "output_type": "execute_result"
    }
   ],
   "source": [
    "pvalue_R"
   ]
  },
  {
   "cell_type": "code",
   "execution_count": null,
   "metadata": {
    "collapsed": true
   },
   "outputs": [],
   "source": []
  }
 ],
 "metadata": {
  "kernelspec": {
   "display_name": "Python 2",
   "language": "python",
   "name": "python2"
  },
  "language_info": {
   "codemirror_mode": {
    "name": "ipython",
    "version": 2
   },
   "file_extension": ".py",
   "mimetype": "text/x-python",
   "name": "python",
   "nbconvert_exporter": "python",
   "pygments_lexer": "ipython2",
   "version": "2.7.10"
  }
 },
 "nbformat": 4,
 "nbformat_minor": 2
}
