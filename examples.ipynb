{
 "cells": [
  {
   "cell_type": "code",
   "execution_count": 1,
   "metadata": {},
   "outputs": [
    {
     "name": "stderr",
     "output_type": "stream",
     "text": [
      "/home/rajat/tensorflow/lib/python2.7/site-packages/sklearn/cross_validation.py:41: DeprecationWarning: This module was deprecated in version 0.18 in favor of the model_selection module into which all the refactored classes and functions are moved. Also note that the interface of the new CV iterators are different from that of this module. This module will be removed in 0.20.\n",
      "  \"This module will be removed in 0.20.\", DeprecationWarning)\n"
     ]
    }
   ],
   "source": [
    "from CCIT import *\n",
    "import numpy as np\n",
    "import pandas as pd\n",
    "from src.MIMIFY_GAN import *\n",
    "from src.MIMIFY_REG import *"
   ]
  },
  {
   "cell_type": "markdown",
   "metadata": {},
   "source": [
    "### Set use_cuda = True in all files if you have a GPU"
   ]
  },
  {
   "cell_type": "code",
   "execution_count": 14,
   "metadata": {
    "collapsed": true
   },
   "outputs": [],
   "source": [
    "all_samples = generate_samples_cos(size = 5000,sType = 'NI',dx = 1,dy = 1,dz = 20,nstd = 0.5,freq = 1.0)"
   ]
  },
  {
   "cell_type": "code",
   "execution_count": 15,
   "metadata": {
    "collapsed": true
   },
   "outputs": [],
   "source": [
    "MCG = MIMIFY_GAN(all_samples[:,0:1],all_samples[:,1:2],all_samples[:,2:22],\\\n",
    "                 normalized=False,max_epoch=50,bsize=50,dim_N = 20, nthread=16)"
   ]
  },
  {
   "cell_type": "code",
   "execution_count": 16,
   "metadata": {},
   "outputs": [
    {
     "name": "stdout",
     "output_type": "stream",
     "text": [
      "in CI Sampler False\n",
      "MAX ITER: 2501\n",
      "in train GAN False\n",
      "Initialized Iterator\n",
      "Data Size: 2500\n",
      "Batch Size: 50\n",
      "Iter#: 99\n",
      "loss: 1.1251397\n",
      "Iter#: 199\n",
      "loss: 1.1464123\n",
      "Iter#: 299\n",
      "loss: 1.1888785\n",
      "Iter#: 399\n",
      "loss: 1.2503479\n",
      "Iter#: 499\n",
      "loss: 1.3722278\n",
      "Iter#: 599\n",
      "loss: 1.3525175\n",
      "Iter#: 699\n",
      "loss: 1.3567548\n",
      "Iter#: 799\n",
      "loss: 1.3688467\n",
      "Iter#: 899\n",
      "loss: 1.3720684\n",
      "Iter#: 999\n",
      "loss: 1.3698745\n",
      "Iter#: 1099\n",
      "loss: 1.3660866\n",
      "Iter#: 1199\n",
      "loss: 1.3543313\n",
      "Iter#: 1299\n",
      "loss: 1.36083\n",
      "Iter#: 1399\n",
      "loss: 1.3470314\n",
      "Iter#: 1499\n",
      "loss: 1.3364875\n",
      "Iter#: 1599\n",
      "loss: 1.3463452\n",
      "Iter#: 1699\n",
      "loss: 1.3342806\n",
      "Iter#: 1799\n",
      "loss: 1.3491037\n",
      "Iter#: 1899\n",
      "loss: 1.3420377\n",
      "Iter#: 1999\n",
      "loss: 1.328178\n",
      "Iter#: 2099\n",
      "loss: 1.3251412\n",
      "Iter#: 2199\n",
      "loss: 1.3166898\n",
      "Iter#: 2299\n",
      "loss: 1.3287237\n",
      "Iter#: 2399\n",
      "loss: 1.291946\n",
      "Iter#: 2499\n",
      "loss: 1.3119798\n"
     ]
    },
    {
     "name": "stderr",
     "output_type": "stream",
     "text": [
      "/home/rajat/tensorflow/lib/python2.7/site-packages/sklearn/preprocessing/label.py:151: DeprecationWarning: The truth value of an empty array is ambiguous. Returning False, but in future this will result in an error. Use `array.size > 0` to check that an array is not empty.\n",
      "  if diff:\n"
     ]
    },
    {
     "name": "stdout",
     "output_type": "stream",
     "text": [
      "AC_w_x: 0.6907147176548506 AC_no_x: 0.6657658306217065\n"
     ]
    },
    {
     "name": "stderr",
     "output_type": "stream",
     "text": [
      "/home/rajat/tensorflow/lib/python2.7/site-packages/sklearn/preprocessing/label.py:151: DeprecationWarning: The truth value of an empty array is ambiguous. Returning False, but in future this will result in an error. Use `array.size > 0` to check that an array is not empty.\n",
      "  if diff:\n"
     ]
    }
   ],
   "source": [
    "pvalue_G = MCG.CI_classify()"
   ]
  },
  {
   "cell_type": "code",
   "execution_count": 27,
   "metadata": {},
   "outputs": [
    {
     "data": {
      "text/plain": [
       "0.3261726517572926"
      ]
     },
     "execution_count": 27,
     "metadata": {},
     "output_type": "execute_result"
    }
   ],
   "source": [
    "pvalue_G"
   ]
  },
  {
   "cell_type": "code",
   "execution_count": 3,
   "metadata": {
    "collapsed": true
   },
   "outputs": [],
   "source": [
    "MCR = MIMIFY_REG(all_samples[:,0:1],all_samples[:,1:2],all_samples[:,2:22],\\\n",
    "                 normalized=False,noise='Normal',nthread = 16, deep = True, \\\n",
    "                 max_epoch = 200, bsize = 200)"
   ]
  },
  {
   "cell_type": "code",
   "execution_count": 4,
   "metadata": {},
   "outputs": [
    {
     "name": "stdout",
     "output_type": "stream",
     "text": [
      "Normal\n",
      "MAX ITER: 2501\n",
      "in train REG Initialized Iterator\n",
      "Data Size: 2500\n",
      "Batch Size: 200\n",
      "Iter#: 99\n",
      "loss: 0.39116564\n",
      "Iter#: 199\n",
      "loss: 0.31048983\n",
      "Iter#: 299\n",
      "loss: 0.29507884\n",
      "Iter#: 399\n",
      "loss: 0.27509063\n",
      "Iter#: 499\n",
      "loss: 0.24843642\n",
      "Iter#: 599\n",
      "loss: 0.23506667\n",
      "Iter#: 699\n",
      "loss: 0.23019949\n",
      "Iter#: 799\n",
      "loss: 0.22579168\n",
      "Iter#: 899\n",
      "loss: 0.22397883\n",
      "Iter#: 999\n",
      "loss: 0.22179043\n",
      "Iter#: 1099\n",
      "loss: 0.21739396\n",
      "Iter#: 1199\n",
      "loss: 0.21378982\n",
      "Iter#: 1299\n",
      "loss: 0.20889543\n",
      "Iter#: 1399\n",
      "loss: 0.20076825\n",
      "Iter#: 1499\n",
      "loss: 0.19083624\n",
      "Iter#: 1599\n",
      "loss: 0.17284599\n",
      "Iter#: 1699\n",
      "loss: 0.14939266\n",
      "Iter#: 1799\n",
      "loss: 0.13225308\n",
      "Iter#: 1899\n",
      "loss: 0.12269683\n",
      "Iter#: 1999\n",
      "loss: 0.1175615\n",
      "Iter#: 2099\n",
      "loss: 0.11515968\n",
      "Iter#: 2199\n",
      "loss: 0.11354259\n",
      "Iter#: 2299\n",
      "loss: 0.11266306\n",
      "Iter#: 2399\n",
      "loss: 0.112220205\n",
      "Iter#: 2499\n",
      "loss: 0.11161922\n",
      "Calculated Covariance:  0.10774566844731812\n",
      "Selected Zsigma: 0.5\n"
     ]
    },
    {
     "name": "stderr",
     "output_type": "stream",
     "text": [
      "/home/rajat/tensorflow/lib/python2.7/site-packages/sklearn/preprocessing/label.py:151: DeprecationWarning: The truth value of an empty array is ambiguous. Returning False, but in future this will result in an error. Use `array.size > 0` to check that an array is not empty.\n",
      "  if diff:\n"
     ]
    },
    {
     "name": "stdout",
     "output_type": "stream",
     "text": [
      "AC_w_x: 0.6487928130263897 AC_no_x: 0.6564620855468694\n"
     ]
    },
    {
     "name": "stderr",
     "output_type": "stream",
     "text": [
      "/home/rajat/tensorflow/lib/python2.7/site-packages/sklearn/preprocessing/label.py:151: DeprecationWarning: The truth value of an empty array is ambiguous. Returning False, but in future this will result in an error. Use `array.size > 0` to check that an array is not empty.\n",
      "  if diff:\n"
     ]
    }
   ],
   "source": [
    "pvalue_R = MCR.CI_classify()"
   ]
  },
  {
   "cell_type": "code",
   "execution_count": 5,
   "metadata": {},
   "outputs": [
    {
     "data": {
      "text/plain": [
       "0.5312085784315663"
      ]
     },
     "execution_count": 5,
     "metadata": {},
     "output_type": "execute_result"
    }
   ],
   "source": [
    "pvalue_R"
   ]
  }
 ],
 "metadata": {
  "kernelspec": {
   "display_name": "Python (tensorflow)",
   "language": "python",
   "name": "tensorflow"
  },
  "language_info": {
   "codemirror_mode": {
    "name": "ipython",
    "version": 2
   },
   "file_extension": ".py",
   "mimetype": "text/x-python",
   "name": "python",
   "nbconvert_exporter": "python",
   "pygments_lexer": "ipython2",
   "version": "2.7.5"
  }
 },
 "nbformat": 4,
 "nbformat_minor": 2
}
