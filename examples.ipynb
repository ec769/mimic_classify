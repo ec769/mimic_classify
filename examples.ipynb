{
 "cells": [
  {
   "cell_type": "code",
   "execution_count": 1,
   "metadata": {
    "collapsed": false
   },
   "outputs": [],
   "source": [
    "from CCIT import *\n",
    "import numpy as np\n",
    "import pandas as pd\n",
    "from src.MIMIFY_GAN import *"
   ]
  },
  {
   "cell_type": "code",
   "execution_count": 6,
   "metadata": {
    "collapsed": true
   },
   "outputs": [],
   "source": [
    "all_samples = generate_samples_cos(size = 5000,sType = 'NI',dx = 1,dy = 1,dz = 20,nstd = 0.5,freq = 1.0)"
   ]
  },
  {
   "cell_type": "code",
   "execution_count": 7,
   "metadata": {
    "collapsed": false
   },
   "outputs": [],
   "source": [
    "MC = MIMIFY_GAN(all_samples[:,0:1],all_samples[:,1:2],all_samples[:,2:22],normalized=True,max_epoch=50)"
   ]
  },
  {
   "cell_type": "code",
   "execution_count": 8,
   "metadata": {
    "collapsed": false
   },
   "outputs": [
    {
     "name": "stdout",
     "output_type": "stream",
     "text": [
      "MAX ITER: 5001\n",
      "Initialized Iterator\n",
      "Data Size: 2500\n",
      "Batch Size: 50\n",
      "Iter#: 99\n",
      "loss: 1.17101\n",
      "Iter#: 199\n",
      "loss: 1.16674\n",
      "Iter#: 299\n",
      "loss: 1.17304\n",
      "Iter#: 399\n",
      "loss: 1.19973\n",
      "Iter#: 499\n",
      "loss: 1.27038\n",
      "Iter#: 599\n",
      "loss: 1.3838\n",
      "Iter#: 699\n",
      "loss: 1.38063\n",
      "Iter#: 799\n",
      "loss: 1.37379\n",
      "Iter#: 899\n",
      "loss: 1.36804\n",
      "Iter#: 999\n",
      "loss: 1.3654\n",
      "Iter#: 1099\n",
      "loss: 1.35823\n",
      "Iter#: 1199\n",
      "loss: 1.34939\n",
      "Iter#: 1299\n",
      "loss: 1.34799\n",
      "Iter#: 1399\n",
      "loss: 1.34531\n",
      "Iter#: 1499\n",
      "loss: 1.35491\n",
      "Iter#: 1599\n",
      "loss: 1.35317\n",
      "Iter#: 1699\n",
      "loss: 1.35334\n",
      "Iter#: 1799\n",
      "loss: 1.35665\n",
      "Iter#: 1899\n",
      "loss: 1.36113\n",
      "Iter#: 1999\n",
      "loss: 1.35129\n",
      "Iter#: 2099\n",
      "loss: 1.34988\n",
      "Iter#: 2199\n",
      "loss: 1.35323\n",
      "Iter#: 2299\n",
      "loss: 1.36044\n",
      "Iter#: 2399\n",
      "loss: 1.36497\n",
      "Iter#: 2499\n",
      "loss: 1.36726\n",
      "Iter#: 2599\n",
      "loss: 1.36578\n",
      "Iter#: 2699\n",
      "loss: 1.36835\n",
      "Iter#: 2799\n",
      "loss: 1.36594\n",
      "Iter#: 2899\n",
      "loss: 1.36231\n",
      "Iter#: 2999\n",
      "loss: 1.35895\n",
      "Iter#: 3099\n",
      "loss: 1.37208\n",
      "Iter#: 3199\n",
      "loss: 1.3596\n",
      "Iter#: 3299\n",
      "loss: 1.35556\n",
      "Iter#: 3399\n",
      "loss: 1.35454\n",
      "Iter#: 3499\n",
      "loss: 1.34608\n",
      "Iter#: 3599\n",
      "loss: 1.34384\n",
      "Iter#: 3699\n",
      "loss: 1.33335\n",
      "Iter#: 3799\n",
      "loss: 1.33483\n",
      "Iter#: 3899\n",
      "loss: 1.32931\n",
      "Iter#: 3999\n",
      "loss: 1.33148\n",
      "Iter#: 4099\n",
      "loss: 1.33343\n",
      "Iter#: 4199\n",
      "loss: 1.32654\n",
      "Iter#: 4299\n",
      "loss: 1.34013\n",
      "Iter#: 4399\n",
      "loss: 1.32188\n",
      "Iter#: 4499\n",
      "loss: 1.31986\n",
      "Iter#: 4599\n",
      "loss: 1.32836\n",
      "Iter#: 4699\n",
      "loss: 1.32792\n",
      "Iter#: 4799\n",
      "loss: 1.33072\n",
      "Iter#: 4899\n",
      "loss: 1.32871\n",
      "Iter#: 4999\n",
      "loss: 1.32054\n"
     ]
    }
   ],
   "source": [
    "pvalue = MC.CI_classify()"
   ]
  }
 ],
 "metadata": {
  "kernelspec": {
   "display_name": "Python 2",
   "language": "python",
   "name": "python2"
  },
  "language_info": {
   "codemirror_mode": {
    "name": "ipython",
    "version": 2
   },
   "file_extension": ".py",
   "mimetype": "text/x-python",
   "name": "python",
   "nbconvert_exporter": "python",
   "pygments_lexer": "ipython2",
   "version": "2.7.10"
  }
 },
 "nbformat": 4,
 "nbformat_minor": 2
}
