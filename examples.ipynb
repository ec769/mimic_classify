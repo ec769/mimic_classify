{
 "cells": [
  {
   "cell_type": "code",
   "execution_count": 2,
   "metadata": {},
   "outputs": [],
   "source": [
    "from CCIT import *\n",
    "from src.datagen import *\n",
    "import numpy as np\n",
    "import pandas as pd\n",
    "from src.MIMIFY_GAN import *\n",
    "from src.MIMIFY_REG import *"
   ]
  },
  {
   "cell_type": "markdown",
   "metadata": {},
   "source": [
    "### Set use_cuda = True in all files if you have a GPU"
   ]
  },
  {
   "cell_type": "code",
   "execution_count": 31,
   "metadata": {},
   "outputs": [
    {
     "name": "stdout",
     "output_type": "stream",
     "text": [
      "<ufunc 'cos'> <ufunc 'cos'>\n"
     ]
    }
   ],
   "source": [
    "all_samples = generate_samples_random(size = 5000,sType = 'CI',dx = 1,dy = 1,dz = 20,\\\n",
    "                                      nstd = 0.05,freq = 1.0,fixed_function=6,debug = True)"
   ]
  },
  {
   "cell_type": "code",
   "execution_count": 32,
   "metadata": {
    "collapsed": true
   },
   "outputs": [],
   "source": [
    "MCG = MIMIFY_GAN(all_samples[:,0:1],all_samples[:,1:2],all_samples[:,2:22],\\\n",
    "                 normalized=True,max_epoch=50,bsize=50,dim_N = 20, nthread=16,deep_classifier = True, \\\n",
    "                params =  {'nhid':20,'nlayers':5,'dropout':0.2})"
   ]
  },
  {
   "cell_type": "code",
   "execution_count": 33,
   "metadata": {},
   "outputs": [
    {
     "name": "stdout",
     "output_type": "stream",
     "text": [
      "in CI Sampler True\n",
      "MAX ITER: 2501\n",
      "in train GAN True\n",
      "Std. Normalized Dataset\n",
      "Initialized Iterator\n",
      "Data Size: 2500\n",
      "Batch Size: 50\n",
      "Iter#: 99\n",
      "loss: 0.9273569\n",
      "Iter#: 199\n",
      "loss: 1.3835254\n",
      "Iter#: 299\n",
      "loss: 1.3185558\n",
      "Iter#: 399\n",
      "loss: 1.2240736\n",
      "Iter#: 499\n",
      "loss: 1.1495802\n",
      "Iter#: 599\n",
      "loss: 1.0885575\n",
      "Iter#: 699\n",
      "loss: 1.1240208\n",
      "Iter#: 799\n",
      "loss: 1.1959026\n",
      "Iter#: 899\n",
      "loss: 1.2502826\n",
      "Iter#: 999\n",
      "loss: 1.3027995\n",
      "Iter#: 1099\n",
      "loss: 1.3382884\n",
      "Iter#: 1199\n",
      "loss: 1.3537449\n",
      "Iter#: 1299\n",
      "loss: 1.3546039\n",
      "Iter#: 1399\n",
      "loss: 1.3507174\n",
      "Iter#: 1499\n",
      "loss: 1.3205123\n",
      "Iter#: 1599\n",
      "loss: 1.3306026\n",
      "Iter#: 1699\n",
      "loss: 1.3280401\n",
      "Iter#: 1799\n",
      "loss: 1.3354217\n",
      "Iter#: 1899\n",
      "loss: 1.3484943\n",
      "Iter#: 1999\n",
      "loss: 1.3614033\n",
      "Iter#: 2099\n",
      "loss: 1.3440146\n",
      "Iter#: 2199\n",
      "loss: 1.3424388\n",
      "Iter#: 2299\n",
      "loss: 1.3378869\n",
      "Iter#: 2399\n",
      "loss: 1.3302438\n",
      "Iter#: 2499\n",
      "loss: 1.326405\n",
      "Using Deep Model:  <src.classifier.MLP object at 0x7fc7c4f80490>\n",
      "AC_w_x: 0.773866156016932 AC_no_x: 0.7883044893022721\n"
     ]
    }
   ],
   "source": [
    "pvalue_G = MCG.CI_classify()"
   ]
  },
  {
   "cell_type": "code",
   "execution_count": 34,
   "metadata": {},
   "outputs": [
    {
     "data": {
      "text/plain": [
       "0.3072808112460508"
      ]
     },
     "execution_count": 34,
     "metadata": {},
     "output_type": "execute_result"
    }
   ],
   "source": [
    "pvalue_G"
   ]
  },
  {
   "cell_type": "code",
   "execution_count": 24,
   "metadata": {
    "collapsed": true
   },
   "outputs": [],
   "source": [
    "MCR = MIMIFY_REG(all_samples[:,0:1],all_samples[:,1:2],all_samples[:,2:22],\\\n",
    "                 normalized=True,noise='Normal',nthread = 16, deep = False, \\\n",
    "                 max_epoch = 200, bsize = 200,DIM=20,deep_classifier = False,\\\n",
    "                 params =  {'nhid':20,'nlayers':5,'dropout':0.2})"
   ]
  },
  {
   "cell_type": "code",
   "execution_count": 25,
   "metadata": {},
   "outputs": [
    {
     "name": "stdout",
     "output_type": "stream",
     "text": [
      "Normal\n",
      "Calculated Covariance:  0.052021545478166564\n",
      "Selected Zsigma: 0.0022360679774997894\n",
      "Using XGB model: \n",
      "XGBClassifier(base_score=0.5, colsample_bylevel=1, colsample_bytree=0.8,\n",
      "       gamma=0, learning_rate=0.02, max_delta_step=0, max_depth=10,\n",
      "       min_child_weight=1, missing=None, n_estimators=300, nthread=16,\n",
      "       objective='binary:logistic', reg_alpha=0, reg_lambda=1,\n",
      "       scale_pos_weight=1, seed=11, silent=True, subsample=0.8)\n",
      "AC_w_x: 0.970328742896152 AC_no_x: 0.8233651428258697\n"
     ]
    }
   ],
   "source": [
    "pvalue_R = MCR.CI_classify()"
   ]
  },
  {
   "cell_type": "code",
   "execution_count": 26,
   "metadata": {},
   "outputs": [
    {
     "data": {
      "text/plain": [
       "0.0"
      ]
     },
     "execution_count": 26,
     "metadata": {},
     "output_type": "execute_result"
    }
   ],
   "source": [
    "pvalue_R"
   ]
  },
  {
   "cell_type": "code",
   "execution_count": 35,
   "metadata": {
    "collapsed": true
   },
   "outputs": [],
   "source": [
    "d = np.load('./data/dim70_random/datafile.npy')"
   ]
  },
  {
   "cell_type": "code",
   "execution_count": 36,
   "metadata": {
    "collapsed": true
   },
   "outputs": [],
   "source": [
    "r = np.load('./data/dim70_random/results_reg_deep_cdeep.npy')\n",
    "rn = np.load('./data/dim70_random/results_reg_deep_norm_cpeed.npy')"
   ]
  },
  {
   "cell_type": "code",
   "execution_count": 37,
   "metadata": {},
   "outputs": [
    {
     "name": "stdout",
     "output_type": "stream",
     "text": [
      "0.2916666666666667 29\n",
      "0.6682263814616756 100\n"
     ]
    }
   ],
   "source": [
    "print roc_auc_score(d[0:len(r)],r[0:len(r)]), len(r)\n",
    "print roc_auc_score(d[0:len(rn)],rn[0:len(rn)]), len(rn)"
   ]
  },
  {
   "cell_type": "code",
   "execution_count": 50,
   "metadata": {
    "scrolled": true
   },
   "outputs": [
    {
     "name": "stderr",
     "output_type": "stream",
     "text": [
      "/usr/lib64/python2.7/site-packages/matplotlib/axes/_axes.py:6462: UserWarning: The 'normed' kwarg is deprecated, and has been replaced by the 'density' kwarg.\n",
      "  warnings.warn(\"The 'normed' kwarg is deprecated, and has been \"\n"
     ]
    },
    {
     "data": {
      "text/plain": [
       "(array([5.53937451, 0.        , 0.        , 0.        , 5.53937451,\n",
       "        0.        , 0.        , 0.        , 2.76968725, 0.        ,\n",
       "        0.        , 0.        , 0.        , 2.76968725, 5.53937451]),\n",
       " array([1.77509067e-06, 4.51332244e-02, 9.02646738e-02, 1.35396123e-01,\n",
       "        1.80527572e-01, 2.25659022e-01, 2.70790471e-01, 3.15921920e-01,\n",
       "        3.61053370e-01, 4.06184819e-01, 4.51316269e-01, 4.96447718e-01,\n",
       "        5.41579167e-01, 5.86710617e-01, 6.31842066e-01, 6.76973515e-01]),\n",
       " <a list of 15 Patch objects>)"
      ]
     },
     "execution_count": 50,
     "metadata": {},
     "output_type": "execute_result"
    },
    {
     "data": {
      "image/png": "[encoded data removed]",
      "text/plain": [
       "<Figure size 432x288 with 1 Axes>"
      ]
     },
     "metadata": {},
     "output_type": "display_data"
    }
   ],
   "source": [
    "import matplotlib.pyplot as plt\n",
    "%matplotlib inline\n",
    "plt.hist(rn[np.where(d[0:len(rn)] == 1)], bins = 15, normed=True)"
   ]
  },
  {
   "cell_type": "code",
   "execution_count": 49,
   "metadata": {
    "collapsed": true
   },
   "outputs": [],
   "source": [
    "parallel_cos_sample_gen(nsamples=5000,nstd=0.5,freq=1.0,num_data=100,\\\n",
    "                        num_proc=16,dx=1,dy=1,dz = 300,filetype = './data/dim300cos/datafile')"
   ]
  },
  {
   "cell_type": "code",
   "execution_count": 56,
   "metadata": {},
   "outputs": [
    {
     "data": {
      "text/plain": [
       "array([0.88986474, 0.56551781, 0.70851752, 0.12789247, 0.99914729,\n",
       "       0.86823109, 0.21337286, 0.74518701, 0.60376774, 0.61846802,\n",
       "       0.58845464, 0.22082247, 0.96500935, 0.98530167, 0.36033807,\n",
       "       0.68555722, 0.25847981, 0.326652  , 0.62205951, 0.57460621,\n",
       "       0.50608481, 0.27139146, 0.686605  , 0.40050197, 0.90303058,\n",
       "       0.98327179, 0.63854997, 0.95697912, 0.8827507 , 0.86182742,\n",
       "       0.25597926, 0.89207716, 0.22036225, 0.38411253, 0.84418566,\n",
       "       0.96622638, 0.69365558, 0.28505901, 0.28227069, 0.76196203,\n",
       "       0.98051134])"
      ]
     },
     "execution_count": 56,
     "metadata": {},
     "output_type": "execute_result"
    }
   ],
   "source": [
    "r"
   ]
  },
  {
   "cell_type": "code",
   "execution_count": 57,
   "metadata": {},
   "outputs": [
    {
     "data": {
      "text/plain": [
       "array([0.72738532, 0.05432929, 0.74865609, 0.57769733, 0.62137643,\n",
       "       0.76254387, 0.2166674 , 0.53904448, 0.78392894, 0.1585109 ,\n",
       "       0.44112703, 0.21324183, 0.72295736, 0.9536547 , 0.09302175,\n",
       "       0.83734111, 0.18476401, 0.09273479, 0.35491237, 0.92434401,\n",
       "       0.11765201, 0.05695022, 0.34966963, 0.35927012, 0.82662172,\n",
       "       0.98554526, 0.56737823, 0.97900942, 0.82725607, 0.27540343,\n",
       "       0.10726489, 0.36949589, 0.13375364, 0.69651341, 0.713446  ,\n",
       "       0.3453601 , 0.94388903, 0.06323519, 0.13593091])"
      ]
     },
     "execution_count": 57,
     "metadata": {},
     "output_type": "execute_result"
    }
   ],
   "source": [
    "rn"
   ]
  },
  {
   "cell_type": "code",
   "execution_count": 37,
   "metadata": {},
   "outputs": [
    {
     "name": "stdout",
     "output_type": "stream",
     "text": [
      "0 1 0.03479212466576964\n",
      "1 0 2.945578394530912e-07\n",
      "2 0 0.0\n",
      "3 0 0.0048838452618302775\n",
      "4 0 0.0\n",
      "5 0 0.0\n",
      "6 1 0.1997163237177111\n",
      "7 1 0.623894643918331\n",
      "8 0 1.511188196801072e-08\n"
     ]
    }
   ],
   "source": [
    "for i in range(len(rn)):\n",
    "    print i,d[i],rn[i]"
   ]
  },
  {
   "cell_type": "code",
   "execution_count": 7,
   "metadata": {
    "collapsed": true
   },
   "outputs": [],
   "source": [
    "from classifier import *"
   ]
  },
  {
   "cell_type": "code",
   "execution_count": 8,
   "metadata": {
    "collapsed": true
   },
   "outputs": [],
   "source": [
    "X = np.random.normal(size=[1000,10])\n",
    "b = 2*np.random.uniform(size=[10,1])\n",
    "y = (np.sign(np.tanh(np.matmul(X,b))) + 1)/2\n",
    "y = y.reshape(1000).astype(int)"
   ]
  },
  {
   "cell_type": "code",
   "execution_count": 9,
   "metadata": {
    "collapsed": true
   },
   "outputs": [],
   "source": [
    "params = {'nhid':5,'nlayers':3}\n",
    "P = MLP(params,10,2,cudaEfficient=True)"
   ]
  },
  {
   "cell_type": "code",
   "execution_count": 10,
   "metadata": {},
   "outputs": [
    {
     "data": {
      "text/plain": [
       "0.99"
      ]
     },
     "execution_count": 10,
     "metadata": {},
     "output_type": "execute_result"
    }
   ],
   "source": [
    "P.fit(X,y,validation_split=0.2)"
   ]
  },
  {
   "cell_type": "code",
   "execution_count": 11,
   "metadata": {
    "collapsed": true
   },
   "outputs": [],
   "source": [
    "probas = P.predict_proba(torch.from_numpy(X).float())"
   ]
  },
  {
   "cell_type": "code",
   "execution_count": 12,
   "metadata": {},
   "outputs": [
    {
     "data": {
      "text/plain": [
       "0.986"
      ]
     },
     "execution_count": 12,
     "metadata": {},
     "output_type": "execute_result"
    }
   ],
   "source": [
    "yhat = np.argmax(probas,axis=1)\n",
    "from sklearn.metrics import accuracy_score\n",
    "accuracy_score(y,yhat)"
   ]
  },
  {
   "cell_type": "code",
   "execution_count": null,
   "metadata": {
    "collapsed": true
   },
   "outputs": [],
   "source": []
  }
 ],
 "metadata": {
  "kernelspec": {
   "display_name": "Python (tensorflow)",
   "language": "python",
   "name": "tensorflow"
  },
  "language_info": {
   "codemirror_mode": {
    "name": "ipython",
    "version": 2
   },
   "file_extension": ".py",
   "mimetype": "text/x-python",
   "name": "python",
   "nbconvert_exporter": "python",
   "pygments_lexer": "ipython2",
   "version": "2.7.5"
  }
 },
 "nbformat": 4,
 "nbformat_minor": 2
}
