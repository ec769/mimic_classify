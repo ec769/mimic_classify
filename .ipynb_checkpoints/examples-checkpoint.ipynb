{
 "cells": [
  {
   "cell_type": "code",
   "execution_count": 1,
   "metadata": {
    "collapsed": false,
    "deletable": true,
    "editable": true
   },
   "outputs": [],
   "source": [
    "from CCIT import *\n",
    "import numpy as np\n",
    "import pandas as pd\n",
    "from src.MIMIFY_GAN import *\n",
    "from src.MIMIFY_REG import *"
   ]
  },
  {
   "cell_type": "code",
   "execution_count": 19,
   "metadata": {
    "collapsed": true,
    "deletable": true,
    "editable": true
   },
   "outputs": [],
   "source": [
    "all_samples = generate_samples_cos(size = 5000,sType = 'CI',dx = 1,dy = 1,dz = 20,nstd = 0.5,freq = 1.0)"
   ]
  },
  {
   "cell_type": "code",
   "execution_count": 20,
   "metadata": {
    "collapsed": false,
    "deletable": true,
    "editable": true
   },
   "outputs": [],
   "source": [
    "MCG = MIMIFY_GAN(all_samples[:,0:1],all_samples[:,1:2],all_samples[:,2:22],normalized=False,max_epoch=50,bsize=50,dim_N = 20, nthread=4)"
   ]
  },
  {
   "cell_type": "code",
   "execution_count": 21,
   "metadata": {
    "collapsed": false,
    "deletable": true,
    "editable": true
   },
   "outputs": [
    {
     "name": "stdout",
     "output_type": "stream",
     "text": [
      "in CI Sampler False\n",
      "MAX ITER: 2501\n",
      "in train GAN False\n",
      "False\n",
      "Initialized Iterator\n",
      "Data Size: 2500\n",
      "Batch Size: 50\n",
      "Iter#: 99\n",
      "loss: 1.2275\n",
      "Iter#: 199\n",
      "loss: 1.2415\n",
      "Iter#: 299\n",
      "loss: 1.21997\n",
      "Iter#: 399\n",
      "loss: 1.22803\n",
      "Iter#: 499\n",
      "loss: 1.24887\n",
      "Iter#: 599\n",
      "loss: 1.23088\n",
      "Iter#: 699\n",
      "loss: 1.23497\n",
      "Iter#: 799\n",
      "loss: 1.28809\n",
      "Iter#: 899\n",
      "loss: 1.36144\n",
      "Iter#: 999\n",
      "loss: 1.3756\n",
      "Iter#: 1099\n",
      "loss: 1.37206\n",
      "Iter#: 1199\n",
      "loss: 1.37189\n",
      "Iter#: 1299\n",
      "loss: 1.36911\n",
      "Iter#: 1399\n",
      "loss: 1.37806\n",
      "Iter#: 1499\n",
      "loss: 1.3769\n",
      "Iter#: 1599\n",
      "loss: 1.37917\n",
      "Iter#: 1699\n",
      "loss: 1.38425\n",
      "Iter#: 1799\n",
      "loss: 1.38412\n",
      "Iter#: 1899\n",
      "loss: 1.38545\n",
      "Iter#: 1999\n",
      "loss: 1.38369\n",
      "Iter#: 2099\n",
      "loss: 1.38259\n",
      "Iter#: 2199\n",
      "loss: 1.38331\n",
      "Iter#: 2299\n",
      "loss: 1.38032\n",
      "Iter#: 2399\n",
      "loss: 1.37855\n",
      "Iter#: 2499\n",
      "loss: 1.38018\n"
     ]
    }
   ],
   "source": [
    "pvalue_G = MCG.CI_classify()"
   ]
  },
  {
   "cell_type": "code",
   "execution_count": 12,
   "metadata": {
    "collapsed": false
   },
   "outputs": [
    {
     "data": {
      "text/plain": [
       "0.05554173866626205"
      ]
     },
     "execution_count": 12,
     "metadata": {},
     "output_type": "execute_result"
    }
   ],
   "source": [
    "pvalue_G"
   ]
  },
  {
   "cell_type": "code",
   "execution_count": 16,
   "metadata": {
    "collapsed": false
   },
   "outputs": [],
   "source": [
    "MCR = MIMIFY_REG(all_samples[:,0:1],all_samples[:,1:2],all_samples[:,2:22],normalized=False,perc=0.3,noise='Normal',nthread = 4)"
   ]
  },
  {
   "cell_type": "code",
   "execution_count": 17,
   "metadata": {
    "collapsed": false
   },
   "outputs": [
    {
     "name": "stdout",
     "output_type": "stream",
     "text": [
      "Normal\n",
      "Calculated Covariance:  0.0323913980432\n"
     ]
    }
   ],
   "source": [
    "pvalue_R = MCR.CI_classify()"
   ]
  },
  {
   "cell_type": "code",
   "execution_count": 18,
   "metadata": {
    "collapsed": false
   },
   "outputs": [
    {
     "data": {
      "text/plain": [
       "0.33932775248081354"
      ]
     },
     "execution_count": 18,
     "metadata": {},
     "output_type": "execute_result"
    }
   ],
   "source": [
    "pvalue_R"
   ]
  },
  {
   "cell_type": "code",
   "execution_count": null,
   "metadata": {
    "collapsed": true
   },
   "outputs": [],
   "source": []
  }
 ],
 "metadata": {
  "kernelspec": {
   "display_name": "Python 2",
   "language": "python",
   "name": "python2"
  },
  "language_info": {
   "codemirror_mode": {
    "name": "ipython",
    "version": 2
   },
   "file_extension": ".py",
   "mimetype": "text/x-python",
   "name": "python",
   "nbconvert_exporter": "python",
   "pygments_lexer": "ipython2",
   "version": "2.7.10"
  }
 },
 "nbformat": 4,
 "nbformat_minor": 2
}
